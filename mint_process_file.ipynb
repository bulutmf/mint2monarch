{
 "cells": [
  {
   "cell_type": "code",
   "execution_count": null,
   "id": "c2575e17-b1ab-49d1-a420-ef32b6e96fa3",
   "metadata": {},
   "outputs": [],
   "source": [
    "import pandas as pd"
   ]
  },
  {
   "cell_type": "markdown",
   "id": "f6996815-873f-4e55-b594-06f92ee1ae8a",
   "metadata": {},
   "source": [
    "# Load transactions data\n",
    "I logged in to Mint and downloaded the transactions as csv. It contains duplicates (almost half of them)"
   ]
  },
  {
   "cell_type": "code",
   "execution_count": null,
   "id": "d938c30e-19d3-482d-bea5-57d5510b89df",
   "metadata": {},
   "outputs": [],
   "source": [
    "df = pd.read_csv('data/transactions.csv')\n",
    "df.head()"
   ]
  },
  {
   "cell_type": "markdown",
   "id": "c3f44418-edeb-455e-92f0-02d6c9c63813",
   "metadata": {},
   "source": [
    "# Clean up"
   ]
  },
  {
   "cell_type": "code",
   "execution_count": null,
   "id": "c39790ca-dfb5-413a-a02f-d9d26189e8a7",
   "metadata": {},
   "outputs": [],
   "source": [
    "def clean_transactions(df, d):\n",
    "    df_all_trans = df[df['Date'] == d].reset_index(drop=True)\n",
    "    df_all_trans['idx'] = df_all_trans.index.tolist()\n",
    "    new_list = []\n",
    "    ignore_idxs = []\n",
    "    for idx, row in df_all_trans.iterrows():\n",
    "        if idx in ignore_idxs:\n",
    "            continue\n",
    "        new_list.append(row.to_dict())\n",
    "        amount = row['Amount']\n",
    "        account_name = row['Account Name']\n",
    "        trans_type = row['Transaction Type']\n",
    "        category = row['Category']\n",
    "        df_same_amounts = df_all_trans[\n",
    "                    (df_all_trans['Amount'] == amount) & \n",
    "                    (df_all_trans['Account Name'] == account_name) & \n",
    "                    (df_all_trans['Transaction Type'] == trans_type) & \n",
    "                    # (df_all_trans['Category'] == category) & \n",
    "                    (df_all_trans['idx'] != idx)]\n",
    "        indices = df_same_amounts.index.tolist()\n",
    "        ignore_idxs.extend(indices)\n",
    "    ignored_list = df_all_trans[df_all_trans['idx'].isin(ignore_idxs)].to_dict(orient='records')\n",
    "    return new_list, ignored_list"
   ]
  },
  {
   "cell_type": "code",
   "execution_count": null,
   "id": "23be23e4-e849-41a6-abb9-b3e9ac0d9e0f",
   "metadata": {},
   "outputs": [],
   "source": []
  },
  {
   "cell_type": "code",
   "execution_count": null,
   "id": "cddd312f-6df0-4058-ae35-e278b8c4ae30",
   "metadata": {},
   "outputs": [],
   "source": [
    "unique_dates = df['Date'].unique().tolist()\n",
    "all_unique_trans = []\n",
    "all_ignored_trans = []\n",
    "for d in unique_dates:\n",
    "    transacations, ignored_trans = clean_transactions(df, d)\n",
    "    all_unique_trans.extend(transacations)\n",
    "    all_ignored_trans.extend(ignored_trans)"
   ]
  },
  {
   "cell_type": "markdown",
   "id": "ce4df0c9-297f-4180-a381-0111c6cd35a1",
   "metadata": {},
   "source": [
    "# Unique transactions"
   ]
  },
  {
   "cell_type": "code",
   "execution_count": null,
   "id": "9dcd5058-65a1-4f24-912f-cc96fdee11e4",
   "metadata": {},
   "outputs": [],
   "source": [
    "df_new = pd.DataFrame(all_unique_trans)\n",
    "del df_new['idx']\n",
    "df_new.head()"
   ]
  },
  {
   "cell_type": "code",
   "execution_count": null,
   "id": "370bcbad-028c-4bcc-8743-2ca947db5a89",
   "metadata": {},
   "outputs": [],
   "source": [
    "print(df.size, df_new.size)"
   ]
  },
  {
   "cell_type": "markdown",
   "id": "58494f59-f65f-423d-9870-16e60747b417",
   "metadata": {},
   "source": [
    "# Ignored transactions\n",
    "To double check"
   ]
  },
  {
   "cell_type": "code",
   "execution_count": null,
   "id": "7c6c0239-52c0-424e-9240-18a837c17032",
   "metadata": {},
   "outputs": [],
   "source": [
    "df_ignored = pd.DataFrame(all_ignored_trans)\n",
    "df_ignored.head(100)"
   ]
  },
  {
   "cell_type": "code",
   "execution_count": null,
   "id": "bbe796c6-5214-49b3-8cf6-2084b8a083ce",
   "metadata": {},
   "outputs": [],
   "source": [
    "df[df['Date'] == '10/11/2023']"
   ]
  },
  {
   "cell_type": "markdown",
   "id": "58235b35-51bd-4b90-9b23-41b96f25068a",
   "metadata": {},
   "source": [
    "# Save fixed transactions\n",
    "\n",
    "Ready to be uploaded to Monarch"
   ]
  },
  {
   "cell_type": "code",
   "execution_count": null,
   "id": "9a7b07e9-1818-4654-9977-a3ca3518bb59",
   "metadata": {},
   "outputs": [],
   "source": [
    "df_new.to_csv('data/fixed_transactions.csv', index=False)"
   ]
  },
  {
   "cell_type": "code",
   "execution_count": null,
   "id": "b5067740-38d5-415d-8ad1-db420c9b8042",
   "metadata": {},
   "outputs": [],
   "source": []
  }
 ],
 "metadata": {
  "kernelspec": {
   "display_name": "Python 3 (ipykernel)",
   "language": "python",
   "name": "python3"
  },
  "language_info": {
   "codemirror_mode": {
    "name": "ipython",
    "version": 3
   },
   "file_extension": ".py",
   "mimetype": "text/x-python",
   "name": "python",
   "nbconvert_exporter": "python",
   "pygments_lexer": "ipython3",
   "version": "3.9.6"
  }
 },
 "nbformat": 4,
 "nbformat_minor": 5
}
